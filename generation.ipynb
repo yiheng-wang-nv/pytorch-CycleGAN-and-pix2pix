{
 "cells": [
  {
   "cell_type": "code",
   "execution_count": 1,
   "metadata": {},
   "outputs": [],
   "source": [
    "import torch\n",
    "from PIL import Image\n",
    "import torchvision.transforms as transforms\n",
    "import numpy as np\n",
    "from timeit import default_timer as timer\n",
    "import os\n",
    "\n",
    "\n",
    "img_transforms = transforms.Compose(\n",
    "    [\n",
    "        transforms.Resize((768, 768), transforms.InterpolationMode.NEAREST),\n",
    "        transforms.ToTensor(),\n",
    "        transforms.Normalize((0.5, 0.5, 0.5), (0.5, 0.5, 0.5)), # remove?\n",
    "    ],\n",
    ")\n",
    "\n",
    "# trt, amp, 256, 1 channel\n"
   ]
  },
  {
   "cell_type": "code",
   "execution_count": null,
   "metadata": {},
   "outputs": [],
   "source": [
    "generator = define_G(\n",
    "    input_nc=3,\n",
    "    output_nc=3,\n",
    "    ngf=64,\n",
    "    netG=\"unet_256\",\n",
    "    norm=\"batch\",\n",
    ")\n",
    "\n",
    "generator.cuda()\n",
    "generator.eval()\n",
    "\n",
    "state_dict = torch.load(\"/raid/colon_reproduce/ct_us_cyclegan/checkpoints/mask2us_liver_add_conv_pad_resize/1340_net_G.pth\")\n",
    "generator.load_state_dict(state_dict)"
   ]
  },
  {
   "cell_type": "code",
   "execution_count": 3,
   "metadata": {},
   "outputs": [],
   "source": [
    "root_dir = \"/raid/colon_reproduce/ct_us_cyclegan/datasets/mask2us_liver_3cls/B/test/\"\n",
    "test_list = os.listdir(root_dir)"
   ]
  },
  {
   "cell_type": "code",
   "execution_count": null,
   "metadata": {},
   "outputs": [],
   "source": [
    "for test_name in test_list:\n",
    "    start = timer()\n",
    "    test_image = Image.open(os.path.join(root_dir, test_name)).convert(\"RGB\")\n",
    "    test_input = img_transforms(test_image).unsqueeze(0).cuda()\n",
    "\n",
    "    load_end = timer()\n",
    "\n",
    "    with torch.no_grad():\n",
    "        output = generator(test_input)\n",
    "\n",
    "    output = output.squeeze(0)\n",
    "    output = output.permute(1, 2, 0)\n",
    "    output = (output + 1) / 2.0 * 255.0\n",
    "\n",
    "    output = output.cpu().float().numpy().astype(np.uint8)\n",
    "    end = timer()\n",
    "    print(f\"Time to load: {load_end - start } generate: {end - load_end} total: {end - start} shape: {output.shape}\")"
   ]
  },
  {
   "cell_type": "code",
   "execution_count": null,
   "metadata": {},
   "outputs": [],
   "source": []
  }
 ],
 "metadata": {
  "kernelspec": {
   "display_name": "dev_env",
   "language": "python",
   "name": "python3"
  },
  "language_info": {
   "codemirror_mode": {
    "name": "ipython",
    "version": 3
   },
   "file_extension": ".py",
   "mimetype": "text/x-python",
   "name": "python",
   "nbconvert_exporter": "python",
   "pygments_lexer": "ipython3",
   "version": "3.10.12"
  }
 },
 "nbformat": 4,
 "nbformat_minor": 2
}
